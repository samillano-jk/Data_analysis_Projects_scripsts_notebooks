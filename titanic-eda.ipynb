{
 "cells": [
  {
   "cell_type": "code",
   "execution_count": 1,
   "id": "f5e1a629",
   "metadata": {
    "_cell_guid": "b1076dfc-b9ad-4769-8c92-a6c4dae69d19",
    "_uuid": "8f2839f25d086af736a60e9eeb907d3b93b6e0e5",
    "execution": {
     "iopub.execute_input": "2024-05-31T05:14:17.564580Z",
     "iopub.status.busy": "2024-05-31T05:14:17.563708Z",
     "iopub.status.idle": "2024-05-31T05:14:20.048496Z",
     "shell.execute_reply": "2024-05-31T05:14:20.047204Z"
    },
    "papermill": {
     "duration": 2.50276,
     "end_time": "2024-05-31T05:14:20.051085",
     "exception": false,
     "start_time": "2024-05-31T05:14:17.548325",
     "status": "completed"
    },
    "tags": []
   },
   "outputs": [
    {
     "name": "stdout",
     "output_type": "stream",
     "text": [
      "/kaggle/input/titanic-dataset/Titanic-Dataset.csv\n"
     ]
    }
   ],
   "source": [
    "# This Python 3 environment comes with many helpful analytics libraries installed\n",
    "# It is defined by the kaggle/python Docker image: https://github.com/kaggle/docker-python\n",
    "# For example, here's several helpful packages to load\n",
    "\n",
    "import numpy as np # linear algebra\n",
    "import pandas as pd # data processing, CSV file I/O (e.g. pd.read_csv)\n",
    "import matplotlib.pyplot as plt\n",
    "import seaborn as sns\n",
    "\n",
    "# Input data files are available in the read-only \"../input/\" directory\n",
    "# For example, running this (by clicking run or pressing Shift+Enter) will list all files under the input directory\n",
    "\n",
    "import os\n",
    "for dirname, _, filenames in os.walk('/kaggle/input'):\n",
    "    for filename in filenames:\n",
    "        print(os.path.join(dirname, filename))\n",
    "\n",
    "# You can write up to 20GB to the current directory (/kaggle/working/) that gets preserved as output when you create a version using \"Save & Run All\" \n",
    "# You can also write temporary files to /kaggle/temp/, but they won't be saved outside of the current session"
   ]
  },
  {
   "cell_type": "code",
   "execution_count": 2,
   "id": "59bff164",
   "metadata": {
    "execution": {
     "iopub.execute_input": "2024-05-31T05:14:20.080266Z",
     "iopub.status.busy": "2024-05-31T05:14:20.079302Z",
     "iopub.status.idle": "2024-05-31T05:14:20.104946Z",
     "shell.execute_reply": "2024-05-31T05:14:20.103577Z"
    },
    "papermill": {
     "duration": 0.043574,
     "end_time": "2024-05-31T05:14:20.107802",
     "exception": false,
     "start_time": "2024-05-31T05:14:20.064228",
     "status": "completed"
    },
    "tags": []
   },
   "outputs": [],
   "source": [
    "titanic = pd.read_csv(\"/kaggle/input/titanic-dataset/Titanic-Dataset.csv\")"
   ]
  },
  {
   "cell_type": "code",
   "execution_count": 3,
   "id": "6bc61c44",
   "metadata": {
    "execution": {
     "iopub.execute_input": "2024-05-31T05:14:20.135943Z",
     "iopub.status.busy": "2024-05-31T05:14:20.135460Z",
     "iopub.status.idle": "2024-05-31T05:14:20.141578Z",
     "shell.execute_reply": "2024-05-31T05:14:20.140367Z"
    },
    "papermill": {
     "duration": 0.023371,
     "end_time": "2024-05-31T05:14:20.144367",
     "exception": false,
     "start_time": "2024-05-31T05:14:20.120996",
     "status": "completed"
    },
    "tags": []
   },
   "outputs": [
    {
     "name": "stdout",
     "output_type": "stream",
     "text": [
      "Rows: 891\n",
      "Columns: 12\n"
     ]
    }
   ],
   "source": [
    "print(f\"Rows: {titanic.shape[0]}\")\n",
    "print(f\"Columns: {titanic.shape[1]}\")"
   ]
  },
  {
   "cell_type": "code",
   "execution_count": 4,
   "id": "8bc17739",
   "metadata": {
    "execution": {
     "iopub.execute_input": "2024-05-31T05:14:20.173886Z",
     "iopub.status.busy": "2024-05-31T05:14:20.172785Z",
     "iopub.status.idle": "2024-05-31T05:14:20.182793Z",
     "shell.execute_reply": "2024-05-31T05:14:20.181613Z"
    },
    "papermill": {
     "duration": 0.027617,
     "end_time": "2024-05-31T05:14:20.185103",
     "exception": false,
     "start_time": "2024-05-31T05:14:20.157486",
     "status": "completed"
    },
    "tags": []
   },
   "outputs": [
    {
     "data": {
      "text/plain": [
       "Index(['PassengerId', 'Survived', 'Pclass', 'Name', 'Sex', 'Age', 'SibSp',\n",
       "       'Parch', 'Ticket', 'Fare', 'Cabin', 'Embarked'],\n",
       "      dtype='object')"
      ]
     },
     "execution_count": 4,
     "metadata": {},
     "output_type": "execute_result"
    }
   ],
   "source": [
    "titanic.columns"
   ]
  },
  {
   "cell_type": "code",
   "execution_count": 5,
   "id": "9264509f",
   "metadata": {
    "execution": {
     "iopub.execute_input": "2024-05-31T05:14:20.214513Z",
     "iopub.status.busy": "2024-05-31T05:14:20.213365Z",
     "iopub.status.idle": "2024-05-31T05:14:20.245542Z",
     "shell.execute_reply": "2024-05-31T05:14:20.244221Z"
    },
    "papermill": {
     "duration": 0.049871,
     "end_time": "2024-05-31T05:14:20.248179",
     "exception": false,
     "start_time": "2024-05-31T05:14:20.198308",
     "status": "completed"
    },
    "tags": []
   },
   "outputs": [
    {
     "data": {
      "text/html": [
       "<div>\n",
       "<style scoped>\n",
       "    .dataframe tbody tr th:only-of-type {\n",
       "        vertical-align: middle;\n",
       "    }\n",
       "\n",
       "    .dataframe tbody tr th {\n",
       "        vertical-align: top;\n",
       "    }\n",
       "\n",
       "    .dataframe thead th {\n",
       "        text-align: right;\n",
       "    }\n",
       "</style>\n",
       "<table border=\"1\" class=\"dataframe\">\n",
       "  <thead>\n",
       "    <tr style=\"text-align: right;\">\n",
       "      <th></th>\n",
       "      <th>PassengerId</th>\n",
       "      <th>Survived</th>\n",
       "      <th>Pclass</th>\n",
       "      <th>Name</th>\n",
       "      <th>Sex</th>\n",
       "      <th>Age</th>\n",
       "      <th>SibSp</th>\n",
       "      <th>Parch</th>\n",
       "      <th>Ticket</th>\n",
       "      <th>Fare</th>\n",
       "      <th>Cabin</th>\n",
       "      <th>Embarked</th>\n",
       "    </tr>\n",
       "  </thead>\n",
       "  <tbody>\n",
       "    <tr>\n",
       "      <th>0</th>\n",
       "      <td>1</td>\n",
       "      <td>0</td>\n",
       "      <td>3</td>\n",
       "      <td>Braund, Mr. Owen Harris</td>\n",
       "      <td>male</td>\n",
       "      <td>22.0</td>\n",
       "      <td>1</td>\n",
       "      <td>0</td>\n",
       "      <td>A/5 21171</td>\n",
       "      <td>7.2500</td>\n",
       "      <td>NaN</td>\n",
       "      <td>S</td>\n",
       "    </tr>\n",
       "    <tr>\n",
       "      <th>1</th>\n",
       "      <td>2</td>\n",
       "      <td>1</td>\n",
       "      <td>1</td>\n",
       "      <td>Cumings, Mrs. John Bradley (Florence Briggs Th...</td>\n",
       "      <td>female</td>\n",
       "      <td>38.0</td>\n",
       "      <td>1</td>\n",
       "      <td>0</td>\n",
       "      <td>PC 17599</td>\n",
       "      <td>71.2833</td>\n",
       "      <td>C85</td>\n",
       "      <td>C</td>\n",
       "    </tr>\n",
       "    <tr>\n",
       "      <th>2</th>\n",
       "      <td>3</td>\n",
       "      <td>1</td>\n",
       "      <td>3</td>\n",
       "      <td>Heikkinen, Miss. Laina</td>\n",
       "      <td>female</td>\n",
       "      <td>26.0</td>\n",
       "      <td>0</td>\n",
       "      <td>0</td>\n",
       "      <td>STON/O2. 3101282</td>\n",
       "      <td>7.9250</td>\n",
       "      <td>NaN</td>\n",
       "      <td>S</td>\n",
       "    </tr>\n",
       "    <tr>\n",
       "      <th>3</th>\n",
       "      <td>4</td>\n",
       "      <td>1</td>\n",
       "      <td>1</td>\n",
       "      <td>Futrelle, Mrs. Jacques Heath (Lily May Peel)</td>\n",
       "      <td>female</td>\n",
       "      <td>35.0</td>\n",
       "      <td>1</td>\n",
       "      <td>0</td>\n",
       "      <td>113803</td>\n",
       "      <td>53.1000</td>\n",
       "      <td>C123</td>\n",
       "      <td>S</td>\n",
       "    </tr>\n",
       "    <tr>\n",
       "      <th>4</th>\n",
       "      <td>5</td>\n",
       "      <td>0</td>\n",
       "      <td>3</td>\n",
       "      <td>Allen, Mr. William Henry</td>\n",
       "      <td>male</td>\n",
       "      <td>35.0</td>\n",
       "      <td>0</td>\n",
       "      <td>0</td>\n",
       "      <td>373450</td>\n",
       "      <td>8.0500</td>\n",
       "      <td>NaN</td>\n",
       "      <td>S</td>\n",
       "    </tr>\n",
       "  </tbody>\n",
       "</table>\n",
       "</div>"
      ],
      "text/plain": [
       "   PassengerId  Survived  Pclass  \\\n",
       "0            1         0       3   \n",
       "1            2         1       1   \n",
       "2            3         1       3   \n",
       "3            4         1       1   \n",
       "4            5         0       3   \n",
       "\n",
       "                                                Name     Sex   Age  SibSp  \\\n",
       "0                            Braund, Mr. Owen Harris    male  22.0      1   \n",
       "1  Cumings, Mrs. John Bradley (Florence Briggs Th...  female  38.0      1   \n",
       "2                             Heikkinen, Miss. Laina  female  26.0      0   \n",
       "3       Futrelle, Mrs. Jacques Heath (Lily May Peel)  female  35.0      1   \n",
       "4                           Allen, Mr. William Henry    male  35.0      0   \n",
       "\n",
       "   Parch            Ticket     Fare Cabin Embarked  \n",
       "0      0         A/5 21171   7.2500   NaN        S  \n",
       "1      0          PC 17599  71.2833   C85        C  \n",
       "2      0  STON/O2. 3101282   7.9250   NaN        S  \n",
       "3      0            113803  53.1000  C123        S  \n",
       "4      0            373450   8.0500   NaN        S  "
      ]
     },
     "execution_count": 5,
     "metadata": {},
     "output_type": "execute_result"
    }
   ],
   "source": [
    "titanic.head()"
   ]
  },
  {
   "cell_type": "code",
   "execution_count": 6,
   "id": "b60d930c",
   "metadata": {
    "execution": {
     "iopub.execute_input": "2024-05-31T05:14:20.277522Z",
     "iopub.status.busy": "2024-05-31T05:14:20.277091Z",
     "iopub.status.idle": "2024-05-31T05:14:20.314243Z",
     "shell.execute_reply": "2024-05-31T05:14:20.313128Z"
    },
    "papermill": {
     "duration": 0.054915,
     "end_time": "2024-05-31T05:14:20.316803",
     "exception": false,
     "start_time": "2024-05-31T05:14:20.261888",
     "status": "completed"
    },
    "tags": []
   },
   "outputs": [
    {
     "data": {
      "text/html": [
       "<div>\n",
       "<style scoped>\n",
       "    .dataframe tbody tr th:only-of-type {\n",
       "        vertical-align: middle;\n",
       "    }\n",
       "\n",
       "    .dataframe tbody tr th {\n",
       "        vertical-align: top;\n",
       "    }\n",
       "\n",
       "    .dataframe thead th {\n",
       "        text-align: right;\n",
       "    }\n",
       "</style>\n",
       "<table border=\"1\" class=\"dataframe\">\n",
       "  <thead>\n",
       "    <tr style=\"text-align: right;\">\n",
       "      <th></th>\n",
       "      <th>PassengerId</th>\n",
       "      <th>Survived</th>\n",
       "      <th>Pclass</th>\n",
       "      <th>Age</th>\n",
       "      <th>SibSp</th>\n",
       "      <th>Parch</th>\n",
       "      <th>Fare</th>\n",
       "    </tr>\n",
       "  </thead>\n",
       "  <tbody>\n",
       "    <tr>\n",
       "      <th>count</th>\n",
       "      <td>891.000000</td>\n",
       "      <td>891.000000</td>\n",
       "      <td>891.000000</td>\n",
       "      <td>714.000000</td>\n",
       "      <td>891.000000</td>\n",
       "      <td>891.000000</td>\n",
       "      <td>891.000000</td>\n",
       "    </tr>\n",
       "    <tr>\n",
       "      <th>mean</th>\n",
       "      <td>446.000000</td>\n",
       "      <td>0.383838</td>\n",
       "      <td>2.308642</td>\n",
       "      <td>29.699118</td>\n",
       "      <td>0.523008</td>\n",
       "      <td>0.381594</td>\n",
       "      <td>32.204208</td>\n",
       "    </tr>\n",
       "    <tr>\n",
       "      <th>std</th>\n",
       "      <td>257.353842</td>\n",
       "      <td>0.486592</td>\n",
       "      <td>0.836071</td>\n",
       "      <td>14.526497</td>\n",
       "      <td>1.102743</td>\n",
       "      <td>0.806057</td>\n",
       "      <td>49.693429</td>\n",
       "    </tr>\n",
       "    <tr>\n",
       "      <th>min</th>\n",
       "      <td>1.000000</td>\n",
       "      <td>0.000000</td>\n",
       "      <td>1.000000</td>\n",
       "      <td>0.420000</td>\n",
       "      <td>0.000000</td>\n",
       "      <td>0.000000</td>\n",
       "      <td>0.000000</td>\n",
       "    </tr>\n",
       "    <tr>\n",
       "      <th>25%</th>\n",
       "      <td>223.500000</td>\n",
       "      <td>0.000000</td>\n",
       "      <td>2.000000</td>\n",
       "      <td>20.125000</td>\n",
       "      <td>0.000000</td>\n",
       "      <td>0.000000</td>\n",
       "      <td>7.910400</td>\n",
       "    </tr>\n",
       "    <tr>\n",
       "      <th>50%</th>\n",
       "      <td>446.000000</td>\n",
       "      <td>0.000000</td>\n",
       "      <td>3.000000</td>\n",
       "      <td>28.000000</td>\n",
       "      <td>0.000000</td>\n",
       "      <td>0.000000</td>\n",
       "      <td>14.454200</td>\n",
       "    </tr>\n",
       "    <tr>\n",
       "      <th>75%</th>\n",
       "      <td>668.500000</td>\n",
       "      <td>1.000000</td>\n",
       "      <td>3.000000</td>\n",
       "      <td>38.000000</td>\n",
       "      <td>1.000000</td>\n",
       "      <td>0.000000</td>\n",
       "      <td>31.000000</td>\n",
       "    </tr>\n",
       "    <tr>\n",
       "      <th>max</th>\n",
       "      <td>891.000000</td>\n",
       "      <td>1.000000</td>\n",
       "      <td>3.000000</td>\n",
       "      <td>80.000000</td>\n",
       "      <td>8.000000</td>\n",
       "      <td>6.000000</td>\n",
       "      <td>512.329200</td>\n",
       "    </tr>\n",
       "  </tbody>\n",
       "</table>\n",
       "</div>"
      ],
      "text/plain": [
       "       PassengerId    Survived      Pclass         Age       SibSp  \\\n",
       "count   891.000000  891.000000  891.000000  714.000000  891.000000   \n",
       "mean    446.000000    0.383838    2.308642   29.699118    0.523008   \n",
       "std     257.353842    0.486592    0.836071   14.526497    1.102743   \n",
       "min       1.000000    0.000000    1.000000    0.420000    0.000000   \n",
       "25%     223.500000    0.000000    2.000000   20.125000    0.000000   \n",
       "50%     446.000000    0.000000    3.000000   28.000000    0.000000   \n",
       "75%     668.500000    1.000000    3.000000   38.000000    1.000000   \n",
       "max     891.000000    1.000000    3.000000   80.000000    8.000000   \n",
       "\n",
       "            Parch        Fare  \n",
       "count  891.000000  891.000000  \n",
       "mean     0.381594   32.204208  \n",
       "std      0.806057   49.693429  \n",
       "min      0.000000    0.000000  \n",
       "25%      0.000000    7.910400  \n",
       "50%      0.000000   14.454200  \n",
       "75%      0.000000   31.000000  \n",
       "max      6.000000  512.329200  "
      ]
     },
     "execution_count": 6,
     "metadata": {},
     "output_type": "execute_result"
    }
   ],
   "source": [
    "titanic.describe()"
   ]
  },
  {
   "cell_type": "code",
   "execution_count": 7,
   "id": "8f45436e",
   "metadata": {
    "execution": {
     "iopub.execute_input": "2024-05-31T05:14:20.346457Z",
     "iopub.status.busy": "2024-05-31T05:14:20.346031Z",
     "iopub.status.idle": "2024-05-31T05:14:20.370538Z",
     "shell.execute_reply": "2024-05-31T05:14:20.369376Z"
    },
    "papermill": {
     "duration": 0.042757,
     "end_time": "2024-05-31T05:14:20.373455",
     "exception": false,
     "start_time": "2024-05-31T05:14:20.330698",
     "status": "completed"
    },
    "tags": []
   },
   "outputs": [
    {
     "name": "stdout",
     "output_type": "stream",
     "text": [
      "<class 'pandas.core.frame.DataFrame'>\n",
      "RangeIndex: 891 entries, 0 to 890\n",
      "Data columns (total 12 columns):\n",
      " #   Column       Non-Null Count  Dtype  \n",
      "---  ------       --------------  -----  \n",
      " 0   PassengerId  891 non-null    int64  \n",
      " 1   Survived     891 non-null    int64  \n",
      " 2   Pclass       891 non-null    int64  \n",
      " 3   Name         891 non-null    object \n",
      " 4   Sex          891 non-null    object \n",
      " 5   Age          714 non-null    float64\n",
      " 6   SibSp        891 non-null    int64  \n",
      " 7   Parch        891 non-null    int64  \n",
      " 8   Ticket       891 non-null    object \n",
      " 9   Fare         891 non-null    float64\n",
      " 10  Cabin        204 non-null    object \n",
      " 11  Embarked     889 non-null    object \n",
      "dtypes: float64(2), int64(5), object(5)\n",
      "memory usage: 83.7+ KB\n"
     ]
    }
   ],
   "source": [
    "titanic.info()"
   ]
  },
  {
   "cell_type": "code",
   "execution_count": 8,
   "id": "c5b161c7",
   "metadata": {
    "execution": {
     "iopub.execute_input": "2024-05-31T05:14:20.403502Z",
     "iopub.status.busy": "2024-05-31T05:14:20.403083Z",
     "iopub.status.idle": "2024-05-31T05:14:20.413928Z",
     "shell.execute_reply": "2024-05-31T05:14:20.412627Z"
    },
    "papermill": {
     "duration": 0.028944,
     "end_time": "2024-05-31T05:14:20.416629",
     "exception": false,
     "start_time": "2024-05-31T05:14:20.387685",
     "status": "completed"
    },
    "tags": []
   },
   "outputs": [
    {
     "data": {
      "text/plain": [
       "PassengerId      0\n",
       "Survived         0\n",
       "Pclass           0\n",
       "Name             0\n",
       "Sex              0\n",
       "Age            177\n",
       "SibSp            0\n",
       "Parch            0\n",
       "Ticket           0\n",
       "Fare             0\n",
       "Cabin          687\n",
       "Embarked         2\n",
       "dtype: int64"
      ]
     },
     "execution_count": 8,
     "metadata": {},
     "output_type": "execute_result"
    }
   ],
   "source": [
    "titanic.isna().sum()"
   ]
  },
  {
   "cell_type": "markdown",
   "id": "0d378cd2",
   "metadata": {
    "papermill": {
     "duration": 0.014268,
     "end_time": "2024-05-31T05:14:20.445517",
     "exception": false,
     "start_time": "2024-05-31T05:14:20.431249",
     "status": "completed"
    },
    "tags": []
   },
   "source": [
    "Going to drop the Cabin column because there are lots of missing values\n",
    "<br> \n",
    "Age and Embarked will be imputated"
   ]
  },
  {
   "cell_type": "code",
   "execution_count": 9,
   "id": "f8a2c926",
   "metadata": {
    "execution": {
     "iopub.execute_input": "2024-05-31T05:14:20.476002Z",
     "iopub.status.busy": "2024-05-31T05:14:20.475613Z",
     "iopub.status.idle": "2024-05-31T05:14:20.489374Z",
     "shell.execute_reply": "2024-05-31T05:14:20.488078Z"
    },
    "papermill": {
     "duration": 0.032072,
     "end_time": "2024-05-31T05:14:20.491927",
     "exception": false,
     "start_time": "2024-05-31T05:14:20.459855",
     "status": "completed"
    },
    "tags": []
   },
   "outputs": [
    {
     "data": {
      "text/plain": [
       "PassengerId    891\n",
       "Survived         2\n",
       "Pclass           3\n",
       "Name           891\n",
       "Sex              2\n",
       "Age             88\n",
       "SibSp            7\n",
       "Parch            7\n",
       "Ticket         681\n",
       "Fare           248\n",
       "Cabin          147\n",
       "Embarked         3\n",
       "dtype: int64"
      ]
     },
     "execution_count": 9,
     "metadata": {},
     "output_type": "execute_result"
    }
   ],
   "source": [
    "titanic.nunique()"
   ]
  },
  {
   "cell_type": "code",
   "execution_count": 10,
   "id": "44db1e8b",
   "metadata": {
    "execution": {
     "iopub.execute_input": "2024-05-31T05:14:20.522680Z",
     "iopub.status.busy": "2024-05-31T05:14:20.522243Z",
     "iopub.status.idle": "2024-05-31T05:14:20.529456Z",
     "shell.execute_reply": "2024-05-31T05:14:20.528159Z"
    },
    "papermill": {
     "duration": 0.025521,
     "end_time": "2024-05-31T05:14:20.531957",
     "exception": false,
     "start_time": "2024-05-31T05:14:20.506436",
     "status": "completed"
    },
    "tags": []
   },
   "outputs": [
    {
     "data": {
      "text/plain": [
       "Index(['PassengerId', 'Survived', 'Pclass', 'Name', 'Sex', 'Age', 'SibSp',\n",
       "       'Parch', 'Ticket', 'Fare', 'Cabin', 'Embarked'],\n",
       "      dtype='object')"
      ]
     },
     "execution_count": 10,
     "metadata": {},
     "output_type": "execute_result"
    }
   ],
   "source": [
    "titanic.columns"
   ]
  },
  {
   "cell_type": "markdown",
   "id": "a07b5dcb",
   "metadata": {
    "papermill": {
     "duration": 0.015117,
     "end_time": "2024-05-31T05:14:20.562202",
     "exception": false,
     "start_time": "2024-05-31T05:14:20.547085",
     "status": "completed"
    },
    "tags": []
   },
   "source": [
    "# Numerical Data"
   ]
  },
  {
   "cell_type": "code",
   "execution_count": 11,
   "id": "0dadfba8",
   "metadata": {
    "execution": {
     "iopub.execute_input": "2024-05-31T05:14:20.593912Z",
     "iopub.status.busy": "2024-05-31T05:14:20.593526Z",
     "iopub.status.idle": "2024-05-31T05:14:20.599498Z",
     "shell.execute_reply": "2024-05-31T05:14:20.598251Z"
    },
    "papermill": {
     "duration": 0.024486,
     "end_time": "2024-05-31T05:14:20.601904",
     "exception": false,
     "start_time": "2024-05-31T05:14:20.577418",
     "status": "completed"
    },
    "tags": []
   },
   "outputs": [],
   "source": [
    "titanic_num = titanic.select_dtypes(include=\"number\")"
   ]
  },
  {
   "cell_type": "code",
   "execution_count": 12,
   "id": "b5940968",
   "metadata": {
    "execution": {
     "iopub.execute_input": "2024-05-31T05:14:20.633490Z",
     "iopub.status.busy": "2024-05-31T05:14:20.633061Z",
     "iopub.status.idle": "2024-05-31T05:14:21.184716Z",
     "shell.execute_reply": "2024-05-31T05:14:21.183830Z"
    },
    "papermill": {
     "duration": 0.57019,
     "end_time": "2024-05-31T05:14:21.187401",
     "exception": false,
     "start_time": "2024-05-31T05:14:20.617211",
     "status": "completed"
    },
    "tags": []
   },
   "outputs": [
    {
     "data": {
      "image/png": "[encoded data removed]",
      "text/plain": [
       "<Figure size 800x500 with 2 Axes>"
      ]
     },
     "metadata": {},
     "output_type": "display_data"
    }
   ],
   "source": [
    "num_corr = titanic_num.corr()\n",
    "\n",
    "plt.figure(figsize=(8,5))\n",
    "sns.heatmap(num_corr, annot=True)\n",
    "plt.show()"
   ]
  },
  {
   "cell_type": "markdown",
   "id": "d66cbcef",
   "metadata": {
    "papermill": {
     "duration": 0.015063,
     "end_time": "2024-05-31T05:14:21.219203",
     "exception": false,
     "start_time": "2024-05-31T05:14:21.204140",
     "status": "completed"
    },
    "tags": []
   },
   "source": [
    "There is a moderate correlation between Pclass and Survived column target"
   ]
  },
  {
   "cell_type": "code",
   "execution_count": 13,
   "id": "151a7c00",
   "metadata": {
    "execution": {
     "iopub.execute_input": "2024-05-31T05:14:21.254827Z",
     "iopub.status.busy": "2024-05-31T05:14:21.253577Z",
     "iopub.status.idle": "2024-05-31T05:14:21.267910Z",
     "shell.execute_reply": "2024-05-31T05:14:21.266642Z"
    },
    "papermill": {
     "duration": 0.034963,
     "end_time": "2024-05-31T05:14:21.270624",
     "exception": false,
     "start_time": "2024-05-31T05:14:21.235661",
     "status": "completed"
    },
    "tags": []
   },
   "outputs": [
    {
     "data": {
      "text/html": [
       "<div>\n",
       "<style scoped>\n",
       "    .dataframe tbody tr th:only-of-type {\n",
       "        vertical-align: middle;\n",
       "    }\n",
       "\n",
       "    .dataframe tbody tr th {\n",
       "        vertical-align: top;\n",
       "    }\n",
       "\n",
       "    .dataframe thead th {\n",
       "        text-align: right;\n",
       "    }\n",
       "</style>\n",
       "<table border=\"1\" class=\"dataframe\">\n",
       "  <thead>\n",
       "    <tr style=\"text-align: right;\">\n",
       "      <th></th>\n",
       "      <th>PassengerId</th>\n",
       "      <th>Survived</th>\n",
       "      <th>Pclass</th>\n",
       "      <th>Age</th>\n",
       "      <th>SibSp</th>\n",
       "      <th>Parch</th>\n",
       "      <th>Fare</th>\n",
       "    </tr>\n",
       "  </thead>\n",
       "  <tbody>\n",
       "    <tr>\n",
       "      <th>0</th>\n",
       "      <td>1</td>\n",
       "      <td>0</td>\n",
       "      <td>3</td>\n",
       "      <td>22.0</td>\n",
       "      <td>1</td>\n",
       "      <td>0</td>\n",
       "      <td>7.2500</td>\n",
       "    </tr>\n",
       "    <tr>\n",
       "      <th>1</th>\n",
       "      <td>2</td>\n",
       "      <td>1</td>\n",
       "      <td>1</td>\n",
       "      <td>38.0</td>\n",
       "      <td>1</td>\n",
       "      <td>0</td>\n",
       "      <td>71.2833</td>\n",
       "    </tr>\n",
       "    <tr>\n",
       "      <th>2</th>\n",
       "      <td>3</td>\n",
       "      <td>1</td>\n",
       "      <td>3</td>\n",
       "      <td>26.0</td>\n",
       "      <td>0</td>\n",
       "      <td>0</td>\n",
       "      <td>7.9250</td>\n",
       "    </tr>\n",
       "    <tr>\n",
       "      <th>3</th>\n",
       "      <td>4</td>\n",
       "      <td>1</td>\n",
       "      <td>1</td>\n",
       "      <td>35.0</td>\n",
       "      <td>1</td>\n",
       "      <td>0</td>\n",
       "      <td>53.1000</td>\n",
       "    </tr>\n",
       "    <tr>\n",
       "      <th>4</th>\n",
       "      <td>5</td>\n",
       "      <td>0</td>\n",
       "      <td>3</td>\n",
       "      <td>35.0</td>\n",
       "      <td>0</td>\n",
       "      <td>0</td>\n",
       "      <td>8.0500</td>\n",
       "    </tr>\n",
       "  </tbody>\n",
       "</table>\n",
       "</div>"
      ],
      "text/plain": [
       "   PassengerId  Survived  Pclass   Age  SibSp  Parch     Fare\n",
       "0            1         0       3  22.0      1      0   7.2500\n",
       "1            2         1       1  38.0      1      0  71.2833\n",
       "2            3         1       3  26.0      0      0   7.9250\n",
       "3            4         1       1  35.0      1      0  53.1000\n",
       "4            5         0       3  35.0      0      0   8.0500"
      ]
     },
     "execution_count": 13,
     "metadata": {},
     "output_type": "execute_result"
    }
   ],
   "source": [
    "titanic_num.head()"
   ]
  },
  {
   "cell_type": "code",
   "execution_count": 14,
   "id": "f9ecbd8e",
   "metadata": {
    "execution": {
     "iopub.execute_input": "2024-05-31T05:14:21.305142Z",
     "iopub.status.busy": "2024-05-31T05:14:21.304726Z",
     "iopub.status.idle": "2024-05-31T05:14:21.323311Z",
     "shell.execute_reply": "2024-05-31T05:14:21.322071Z"
    },
    "papermill": {
     "duration": 0.039219,
     "end_time": "2024-05-31T05:14:21.325847",
     "exception": false,
     "start_time": "2024-05-31T05:14:21.286628",
     "status": "completed"
    },
    "tags": []
   },
   "outputs": [
    {
     "data": {
      "text/html": [
       "<div>\n",
       "<style scoped>\n",
       "    .dataframe tbody tr th:only-of-type {\n",
       "        vertical-align: middle;\n",
       "    }\n",
       "\n",
       "    .dataframe tbody tr th {\n",
       "        vertical-align: top;\n",
       "    }\n",
       "\n",
       "    .dataframe thead th {\n",
       "        text-align: right;\n",
       "    }\n",
       "</style>\n",
       "<table border=\"1\" class=\"dataframe\">\n",
       "  <thead>\n",
       "    <tr style=\"text-align: right;\">\n",
       "      <th></th>\n",
       "      <th>PassengerId</th>\n",
       "      <th>Pclass</th>\n",
       "      <th>Age</th>\n",
       "      <th>SibSp</th>\n",
       "      <th>Parch</th>\n",
       "      <th>Fare</th>\n",
       "    </tr>\n",
       "    <tr>\n",
       "      <th>Survived</th>\n",
       "      <th></th>\n",
       "      <th></th>\n",
       "      <th></th>\n",
       "      <th></th>\n",
       "      <th></th>\n",
       "      <th></th>\n",
       "    </tr>\n",
       "  </thead>\n",
       "  <tbody>\n",
       "    <tr>\n",
       "      <th>0</th>\n",
       "      <td>455.0</td>\n",
       "      <td>3.0</td>\n",
       "      <td>28.0</td>\n",
       "      <td>0.0</td>\n",
       "      <td>0.0</td>\n",
       "      <td>10.5</td>\n",
       "    </tr>\n",
       "    <tr>\n",
       "      <th>1</th>\n",
       "      <td>439.5</td>\n",
       "      <td>2.0</td>\n",
       "      <td>28.0</td>\n",
       "      <td>0.0</td>\n",
       "      <td>0.0</td>\n",
       "      <td>26.0</td>\n",
       "    </tr>\n",
       "  </tbody>\n",
       "</table>\n",
       "</div>"
      ],
      "text/plain": [
       "          PassengerId  Pclass   Age  SibSp  Parch  Fare\n",
       "Survived                                               \n",
       "0               455.0     3.0  28.0    0.0    0.0  10.5\n",
       "1               439.5     2.0  28.0    0.0    0.0  26.0"
      ]
     },
     "execution_count": 14,
     "metadata": {},
     "output_type": "execute_result"
    }
   ],
   "source": [
    "titanic_num.groupby(\"Survived\").median()"
   ]
  },
  {
   "cell_type": "code",
   "execution_count": 15,
   "id": "53fd242e",
   "metadata": {
    "execution": {
     "iopub.execute_input": "2024-05-31T05:14:21.359975Z",
     "iopub.status.busy": "2024-05-31T05:14:21.359567Z",
     "iopub.status.idle": "2024-05-31T05:14:23.096747Z",
     "shell.execute_reply": "2024-05-31T05:14:23.095545Z"
    },
    "papermill": {
     "duration": 1.75761,
     "end_time": "2024-05-31T05:14:23.099627",
     "exception": false,
     "start_time": "2024-05-31T05:14:21.342017",
     "status": "completed"
    },
    "tags": []
   },
   "outputs": [
    {
     "data": {
      "image/png": "[encoded data removed]",
      "text/plain": [
       "<Figure size 640x480 with 1 Axes>"
      ]
     },
     "metadata": {},
     "output_type": "display_data"
    },
    {
     "data": {
      "image/png": "[encoded data removed]",
      "text/plain": [
       "<Figure size 640x480 with 1 Axes>"
      ]
     },
     "metadata": {},
     "output_type": "display_data"
    },
    {
     "data": {
      "image/png": "[encoded data removed]",
      "text/plain": [
       "<Figure size 640x480 with 1 Axes>"
      ]
     },
     "metadata": {},
     "output_type": "display_data"
    },
    {
     "data": {
      "image/png": "[encoded data removed]",
      "text/plain": [
       "<Figure size 640x480 with 1 Axes>"
      ]
     },
     "metadata": {},
     "output_type": "display_data"
    },
    {
     "data": {
      "image/png": "[encoded data removed]",
      "text/plain": [
       "<Figure size 640x480 with 1 Axes>"
      ]
     },
     "metadata": {},
     "output_type": "display_data"
    }
   ],
   "source": [
    "for col in titanic_num.columns[2:]:\n",
    "    plt.hist(titanic_num[titanic_num.Survived==1][col], color=\"blue\", alpha=.5, label=\"Survived\")\n",
    "    plt.hist(titanic_num[titanic_num.Survived==0][col], color=\"red\", alpha=.5, label=\"Die\")\n",
    "    \n",
    "    median_survived = titanic_num[titanic_num.Survived==1][col].mean()\n",
    "    median_died = titanic_num[titanic_num.Survived==0][col].mean()\n",
    "    \n",
    "    # Draw vertical lines for medians\n",
    "    plt.axvline(median_survived, color='blue', linestyle='solid', linewidth=1)\n",
    "    plt.axvline(median_died, color='red', linestyle='dashed', linewidth=1)\n",
    "    \n",
    "    plt.title(col)\n",
    "    plt.ylabel(\"Probability\")\n",
    "    plt.legend()\n",
    "    plt.show()"
   ]
  },
  {
   "cell_type": "markdown",
   "id": "724e88c2",
   "metadata": {
    "papermill": {
     "duration": 0.020412,
     "end_time": "2024-05-31T05:14:23.138507",
     "exception": false,
     "start_time": "2024-05-31T05:14:23.118095",
     "status": "completed"
    },
    "tags": []
   },
   "source": [
    "Those who are in Pclass 3 have the highest mortality rate\n",
    "Higher Fare have higher survival chance"
   ]
  },
  {
   "cell_type": "code",
   "execution_count": 16,
   "id": "db0f203c",
   "metadata": {
    "execution": {
     "iopub.execute_input": "2024-05-31T05:14:23.178153Z",
     "iopub.status.busy": "2024-05-31T05:14:23.177252Z",
     "iopub.status.idle": "2024-05-31T05:14:23.563737Z",
     "shell.execute_reply": "2024-05-31T05:14:23.562865Z"
    },
    "papermill": {
     "duration": 0.408383,
     "end_time": "2024-05-31T05:14:23.565790",
     "exception": false,
     "start_time": "2024-05-31T05:14:23.157407",
     "status": "completed"
    },
    "tags": []
   },
   "outputs": [
    {
     "data": {
      "image/png": "[encoded data removed]",
      "text/plain": [
       "<Figure size 640x480 with 1 Axes>"
      ]
     },
     "metadata": {},
     "output_type": "display_data"
    }
   ],
   "source": [
    "plt.hist(titanic_num[titanic_num.Survived==1][\"Fare\"], color=\"blue\", alpha=.5, label=\"Survived\")\n",
    "plt.hist(titanic_num[titanic_num.Survived==0][\"Fare\"], color=\"red\", alpha=.5, label=\"Die\")\n",
    "\n",
    "median_survived = titanic_num[titanic_num.Survived==1][col].mean()\n",
    "median_died = titanic_num[titanic_num.Survived==0][col].mean()\n",
    "\n",
    "# Draw vertical lines for medians\n",
    "plt.axvline(median_survived, color='blue', linestyle='solid', linewidth=1)\n",
    "plt.axvline(median_died, color='red', linestyle='dashed', linewidth=1)\n",
    "\n",
    "plt.xticks(np.arange(0, max(titanic[\"Fare\"]), 25), rotation=\"vertical\")\n",
    "\n",
    "plt.title(\"Fare\")\n",
    "plt.ylabel(\"Probability\")\n",
    "plt.legend()\n",
    "plt.show()"
   ]
  },
  {
   "cell_type": "code",
   "execution_count": 17,
   "id": "a6b775dd",
   "metadata": {
    "execution": {
     "iopub.execute_input": "2024-05-31T05:14:23.608435Z",
     "iopub.status.busy": "2024-05-31T05:14:23.607998Z",
     "iopub.status.idle": "2024-05-31T05:14:23.617870Z",
     "shell.execute_reply": "2024-05-31T05:14:23.616484Z"
    },
    "papermill": {
     "duration": 0.032802,
     "end_time": "2024-05-31T05:14:23.620246",
     "exception": false,
     "start_time": "2024-05-31T05:14:23.587444",
     "status": "completed"
    },
    "tags": []
   },
   "outputs": [
    {
     "name": "stdout",
     "output_type": "stream",
     "text": [
      "335\n",
      "37.59820426487093\n"
     ]
    }
   ],
   "source": [
    "death_less_eq_25 = titanic_num.loc[(titanic_num.Survived==0)  &  (titanic.Fare<=titanic_num[\"Fare\"].median()), \"Fare\"].count()\n",
    "death_rate = death_less_eq_25/titanic_num[\"Fare\"].count()\n",
    "print(death_less_eq_25)\n",
    "print(death_rate*100)"
   ]
  },
  {
   "cell_type": "markdown",
   "id": "05d43aa0",
   "metadata": {
    "papermill": {
     "duration": 0.018438,
     "end_time": "2024-05-31T05:14:23.657561",
     "exception": false,
     "start_time": "2024-05-31T05:14:23.639123",
     "status": "completed"
    },
    "tags": []
   },
   "source": [
    "If your fare is <=median, 38% mortality rate\n",
    "<br>\n",
    "It shows that there is correlation to one's status and their survival"
   ]
  },
  {
   "cell_type": "code",
   "execution_count": 18,
   "id": "2e773c5f",
   "metadata": {
    "execution": {
     "iopub.execute_input": "2024-05-31T05:14:23.698680Z",
     "iopub.status.busy": "2024-05-31T05:14:23.698220Z",
     "iopub.status.idle": "2024-05-31T05:14:24.212418Z",
     "shell.execute_reply": "2024-05-31T05:14:24.211107Z"
    },
    "papermill": {
     "duration": 0.538097,
     "end_time": "2024-05-31T05:14:24.215171",
     "exception": false,
     "start_time": "2024-05-31T05:14:23.677074",
     "status": "completed"
    },
    "tags": []
   },
   "outputs": [
    {
     "data": {
      "image/png": "[encoded data removed]",
      "text/plain": [
       "<Figure size 640x480 with 1 Axes>"
      ]
     },
     "metadata": {},
     "output_type": "display_data"
    }
   ],
   "source": [
    "survived_num = titanic_num.loc[titanic_num[\"Survived\"]==1, :]\n",
    "died_num = titanic_num.loc[titanic_num[\"Survived\"]==0, :]\n",
    "\n",
    "\n",
    "sns.regplot(x=survived_num[\"Pclass\"], y=survived_num[\"Fare\"], color=\"blue\")\n",
    "sns.regplot(x=died_num[\"Pclass\"], y=died_num[\"Fare\"], color=\"red\")\n",
    "plt.show()"
   ]
  },
  {
   "cell_type": "markdown",
   "id": "a8cc70ec",
   "metadata": {
    "papermill": {
     "duration": 0.019367,
     "end_time": "2024-05-31T05:14:24.254734",
     "exception": false,
     "start_time": "2024-05-31T05:14:24.235367",
     "status": "completed"
    },
    "tags": []
   },
   "source": [
    "Higher Fare have higher Pclass"
   ]
  },
  {
   "cell_type": "markdown",
   "id": "2f8a0be5",
   "metadata": {
    "papermill": {
     "duration": 0.018914,
     "end_time": "2024-05-31T05:14:24.293154",
     "exception": false,
     "start_time": "2024-05-31T05:14:24.274240",
     "status": "completed"
    },
    "tags": []
   },
   "source": [
    "# Categorical Data"
   ]
  },
  {
   "cell_type": "code",
   "execution_count": 19,
   "id": "8a02f61d",
   "metadata": {
    "execution": {
     "iopub.execute_input": "2024-05-31T05:14:24.335168Z",
     "iopub.status.busy": "2024-05-31T05:14:24.334738Z",
     "iopub.status.idle": "2024-05-31T05:14:24.354544Z",
     "shell.execute_reply": "2024-05-31T05:14:24.353387Z"
    },
    "papermill": {
     "duration": 0.043221,
     "end_time": "2024-05-31T05:14:24.357077",
     "exception": false,
     "start_time": "2024-05-31T05:14:24.313856",
     "status": "completed"
    },
    "tags": []
   },
   "outputs": [
    {
     "data": {
      "text/html": [
       "<div>\n",
       "<style scoped>\n",
       "    .dataframe tbody tr th:only-of-type {\n",
       "        vertical-align: middle;\n",
       "    }\n",
       "\n",
       "    .dataframe tbody tr th {\n",
       "        vertical-align: top;\n",
       "    }\n",
       "\n",
       "    .dataframe thead th {\n",
       "        text-align: right;\n",
       "    }\n",
       "</style>\n",
       "<table border=\"1\" class=\"dataframe\">\n",
       "  <thead>\n",
       "    <tr style=\"text-align: right;\">\n",
       "      <th></th>\n",
       "      <th>Name</th>\n",
       "      <th>Sex</th>\n",
       "      <th>Ticket</th>\n",
       "      <th>Cabin</th>\n",
       "      <th>Embarked</th>\n",
       "      <th>Survived</th>\n",
       "    </tr>\n",
       "  </thead>\n",
       "  <tbody>\n",
       "    <tr>\n",
       "      <th>0</th>\n",
       "      <td>Braund, Mr. Owen Harris</td>\n",
       "      <td>male</td>\n",
       "      <td>A/5 21171</td>\n",
       "      <td>NaN</td>\n",
       "      <td>S</td>\n",
       "      <td>0</td>\n",
       "    </tr>\n",
       "    <tr>\n",
       "      <th>1</th>\n",
       "      <td>Cumings, Mrs. John Bradley (Florence Briggs Th...</td>\n",
       "      <td>female</td>\n",
       "      <td>PC 17599</td>\n",
       "      <td>C85</td>\n",
       "      <td>C</td>\n",
       "      <td>1</td>\n",
       "    </tr>\n",
       "    <tr>\n",
       "      <th>2</th>\n",
       "      <td>Heikkinen, Miss. Laina</td>\n",
       "      <td>female</td>\n",
       "      <td>STON/O2. 3101282</td>\n",
       "      <td>NaN</td>\n",
       "      <td>S</td>\n",
       "      <td>1</td>\n",
       "    </tr>\n",
       "    <tr>\n",
       "      <th>3</th>\n",
       "      <td>Futrelle, Mrs. Jacques Heath (Lily May Peel)</td>\n",
       "      <td>female</td>\n",
       "      <td>113803</td>\n",
       "      <td>C123</td>\n",
       "      <td>S</td>\n",
       "      <td>1</td>\n",
       "    </tr>\n",
       "    <tr>\n",
       "      <th>4</th>\n",
       "      <td>Allen, Mr. William Henry</td>\n",
       "      <td>male</td>\n",
       "      <td>373450</td>\n",
       "      <td>NaN</td>\n",
       "      <td>S</td>\n",
       "      <td>0</td>\n",
       "    </tr>\n",
       "    <tr>\n",
       "      <th>...</th>\n",
       "      <td>...</td>\n",
       "      <td>...</td>\n",
       "      <td>...</td>\n",
       "      <td>...</td>\n",
       "      <td>...</td>\n",
       "      <td>...</td>\n",
       "    </tr>\n",
       "    <tr>\n",
       "      <th>886</th>\n",
       "      <td>Montvila, Rev. Juozas</td>\n",
       "      <td>male</td>\n",
       "      <td>211536</td>\n",
       "      <td>NaN</td>\n",
       "      <td>S</td>\n",
       "      <td>0</td>\n",
       "    </tr>\n",
       "    <tr>\n",
       "      <th>887</th>\n",
       "      <td>Graham, Miss. Margaret Edith</td>\n",
       "      <td>female</td>\n",
       "      <td>112053</td>\n",
       "      <td>B42</td>\n",
       "      <td>S</td>\n",
       "      <td>1</td>\n",
       "    </tr>\n",
       "    <tr>\n",
       "      <th>888</th>\n",
       "      <td>Johnston, Miss. Catherine Helen \"Carrie\"</td>\n",
       "      <td>female</td>\n",
       "      <td>W./C. 6607</td>\n",
       "      <td>NaN</td>\n",
       "      <td>S</td>\n",
       "      <td>0</td>\n",
       "    </tr>\n",
       "    <tr>\n",
       "      <th>889</th>\n",
       "      <td>Behr, Mr. Karl Howell</td>\n",
       "      <td>male</td>\n",
       "      <td>111369</td>\n",
       "      <td>C148</td>\n",
       "      <td>C</td>\n",
       "      <td>1</td>\n",
       "    </tr>\n",
       "    <tr>\n",
       "      <th>890</th>\n",
       "      <td>Dooley, Mr. Patrick</td>\n",
       "      <td>male</td>\n",
       "      <td>370376</td>\n",
       "      <td>NaN</td>\n",
       "      <td>Q</td>\n",
       "      <td>0</td>\n",
       "    </tr>\n",
       "  </tbody>\n",
       "</table>\n",
       "<p>891 rows × 6 columns</p>\n",
       "</div>"
      ],
      "text/plain": [
       "                                                  Name     Sex  \\\n",
       "0                              Braund, Mr. Owen Harris    male   \n",
       "1    Cumings, Mrs. John Bradley (Florence Briggs Th...  female   \n",
       "2                               Heikkinen, Miss. Laina  female   \n",
       "3         Futrelle, Mrs. Jacques Heath (Lily May Peel)  female   \n",
       "4                             Allen, Mr. William Henry    male   \n",
       "..                                                 ...     ...   \n",
       "886                              Montvila, Rev. Juozas    male   \n",
       "887                       Graham, Miss. Margaret Edith  female   \n",
       "888           Johnston, Miss. Catherine Helen \"Carrie\"  female   \n",
       "889                              Behr, Mr. Karl Howell    male   \n",
       "890                                Dooley, Mr. Patrick    male   \n",
       "\n",
       "               Ticket Cabin Embarked  Survived  \n",
       "0           A/5 21171   NaN        S         0  \n",
       "1            PC 17599   C85        C         1  \n",
       "2    STON/O2. 3101282   NaN        S         1  \n",
       "3              113803  C123        S         1  \n",
       "4              373450   NaN        S         0  \n",
       "..                ...   ...      ...       ...  \n",
       "886            211536   NaN        S         0  \n",
       "887            112053   B42        S         1  \n",
       "888        W./C. 6607   NaN        S         0  \n",
       "889            111369  C148        C         1  \n",
       "890            370376   NaN        Q         0  \n",
       "\n",
       "[891 rows x 6 columns]"
      ]
     },
     "execution_count": 19,
     "metadata": {},
     "output_type": "execute_result"
    }
   ],
   "source": [
    "titanic_s = titanic[[\"Name\", \"Sex\", \"Ticket\", \"Cabin\", \"Embarked\", \"Survived\"]]\n",
    "titanic_s"
   ]
  },
  {
   "cell_type": "code",
   "execution_count": 20,
   "id": "06b3b59d",
   "metadata": {
    "execution": {
     "iopub.execute_input": "2024-05-31T05:14:24.400513Z",
     "iopub.status.busy": "2024-05-31T05:14:24.399145Z",
     "iopub.status.idle": "2024-05-31T05:14:24.614423Z",
     "shell.execute_reply": "2024-05-31T05:14:24.613075Z"
    },
    "papermill": {
     "duration": 0.240174,
     "end_time": "2024-05-31T05:14:24.617061",
     "exception": false,
     "start_time": "2024-05-31T05:14:24.376887",
     "status": "completed"
    },
    "tags": []
   },
   "outputs": [
    {
     "data": {
      "image/png": "[encoded data removed]",
      "text/plain": [
       "<Figure size 640x480 with 1 Axes>"
      ]
     },
     "metadata": {},
     "output_type": "display_data"
    }
   ],
   "source": [
    "survived_s = titanic_s[titanic_s[\"Survived\"]==1][\"Sex\"].value_counts().sort_values()\n",
    "died_s = titanic_s[titanic_s[\"Survived\"]==0][\"Sex\"].value_counts().sort_values()\n",
    "\n",
    "plt.bar(died_s.index, died_s, color=\"red\", alpha=.5, label=\"Die\")\n",
    "plt.bar(survived_s.index, survived_s, color=\"blue\", alpha=.5, label=\"Survived\")\n",
    "plt.title(\"Sex\")\n",
    "plt.ylabel(\"Probability\")\n",
    "plt.legend()\n",
    "plt.show()"
   ]
  },
  {
   "cell_type": "code",
   "execution_count": 21,
   "id": "0501ba4d",
   "metadata": {
    "execution": {
     "iopub.execute_input": "2024-05-31T05:14:24.719645Z",
     "iopub.status.busy": "2024-05-31T05:14:24.719212Z",
     "iopub.status.idle": "2024-05-31T05:14:24.726223Z",
     "shell.execute_reply": "2024-05-31T05:14:24.725044Z"
    },
    "papermill": {
     "duration": 0.03179,
     "end_time": "2024-05-31T05:14:24.728918",
     "exception": false,
     "start_time": "2024-05-31T05:14:24.697128",
     "status": "completed"
    },
    "tags": []
   },
   "outputs": [
    {
     "name": "stdout",
     "output_type": "stream",
     "text": [
      "Sex\n",
      "male      109\n",
      "female    233\n",
      "Name: count, dtype: int64\n",
      "Sex\n",
      "female     81\n",
      "male      468\n",
      "Name: count, dtype: int64\n"
     ]
    }
   ],
   "source": [
    "print(survived_s)\n",
    "print(died_s)"
   ]
  },
  {
   "cell_type": "code",
   "execution_count": 22,
   "id": "e07acd2a",
   "metadata": {
    "execution": {
     "iopub.execute_input": "2024-05-31T05:14:24.772951Z",
     "iopub.status.busy": "2024-05-31T05:14:24.772053Z",
     "iopub.status.idle": "2024-05-31T05:14:24.783728Z",
     "shell.execute_reply": "2024-05-31T05:14:24.782533Z"
    },
    "papermill": {
     "duration": 0.036616,
     "end_time": "2024-05-31T05:14:24.786163",
     "exception": false,
     "start_time": "2024-05-31T05:14:24.749547",
     "status": "completed"
    },
    "tags": []
   },
   "outputs": [
    {
     "name": "stdout",
     "output_type": "stream",
     "text": [
      "Women survival rate: 74.20382165605095\n",
      "Men mortality rate: 81.10918544194108\n"
     ]
    }
   ],
   "source": [
    "survived_f = survived_s.iloc[1]\n",
    "female_pop = titanic_s[titanic[\"Sex\"]==\"female\"][\"Sex\"].count()\n",
    "survival_rate_f = survived_f/female_pop\n",
    "print(f\"Women survival rate: {survival_rate_f*100}\")\n",
    "\n",
    "died_m = died_s.iloc[1]\n",
    "male_pop = titanic_s[titanic[\"Sex\"]==\"male\"][\"Sex\"].count()\n",
    "death_rate_m = died_m/male_pop\n",
    "print(f\"Men mortality rate: {death_rate_m*100}\")\n"
   ]
  },
  {
   "cell_type": "markdown",
   "id": "c9c3f636",
   "metadata": {
    "papermill": {
     "duration": 0.019983,
     "end_time": "2024-05-31T05:14:24.826471",
     "exception": false,
     "start_time": "2024-05-31T05:14:24.806488",
     "status": "completed"
    },
    "tags": []
   },
   "source": [
    "Females have higher survival rate than men"
   ]
  },
  {
   "cell_type": "code",
   "execution_count": 23,
   "id": "b75a3925",
   "metadata": {
    "execution": {
     "iopub.execute_input": "2024-05-31T05:14:24.869532Z",
     "iopub.status.busy": "2024-05-31T05:14:24.869123Z",
     "iopub.status.idle": "2024-05-31T05:14:25.179607Z",
     "shell.execute_reply": "2024-05-31T05:14:25.178365Z"
    },
    "papermill": {
     "duration": 0.334863,
     "end_time": "2024-05-31T05:14:25.182332",
     "exception": false,
     "start_time": "2024-05-31T05:14:24.847469",
     "status": "completed"
    },
    "tags": []
   },
   "outputs": [
    {
     "data": {
      "image/png": "[encoded data removed]",
      "text/plain": [
       "<Figure size 640x480 with 1 Axes>"
      ]
     },
     "metadata": {},
     "output_type": "display_data"
    }
   ],
   "source": [
    "survived_e = titanic_s[titanic_s[\"Survived\"]==1][\"Embarked\"].value_counts()\n",
    "died_e = titanic_s[titanic_s[\"Survived\"]==0][\"Embarked\"].value_counts()\n",
    "    \n",
    "    \n",
    "    \n",
    "    \n",
    "plt.bar(survived_e.index, survived_e, color=\"blue\", alpha=.5, label=\"Survived\")\n",
    "plt.bar(died_e.index, died_e, color=\"red\", alpha=.5, label=\"Died\")\n",
    "plt.title(\"Embarked\")\n",
    "plt.ylabel(\"Probability\")\n",
    "plt.legend()\n",
    "plt.show()"
   ]
  },
  {
   "cell_type": "markdown",
   "id": "a8b81861",
   "metadata": {
    "papermill": {
     "duration": 0.020529,
     "end_time": "2024-05-31T05:14:25.224726",
     "exception": false,
     "start_time": "2024-05-31T05:14:25.204197",
     "status": "completed"
    },
    "tags": []
   },
   "source": [
    "Those who embarked at C have the highest survival rate"
   ]
  },
  {
   "cell_type": "code",
   "execution_count": 24,
   "id": "1082583b",
   "metadata": {
    "execution": {
     "iopub.execute_input": "2024-05-31T05:14:25.269079Z",
     "iopub.status.busy": "2024-05-31T05:14:25.268661Z",
     "iopub.status.idle": "2024-05-31T05:14:25.285824Z",
     "shell.execute_reply": "2024-05-31T05:14:25.284490Z"
    },
    "papermill": {
     "duration": 0.042164,
     "end_time": "2024-05-31T05:14:25.288047",
     "exception": false,
     "start_time": "2024-05-31T05:14:25.245883",
     "status": "completed"
    },
    "tags": []
   },
   "outputs": [
    {
     "data": {
      "text/html": [
       "<div>\n",
       "<style scoped>\n",
       "    .dataframe tbody tr th:only-of-type {\n",
       "        vertical-align: middle;\n",
       "    }\n",
       "\n",
       "    .dataframe tbody tr th {\n",
       "        vertical-align: top;\n",
       "    }\n",
       "\n",
       "    .dataframe thead th {\n",
       "        text-align: right;\n",
       "    }\n",
       "</style>\n",
       "<table border=\"1\" class=\"dataframe\">\n",
       "  <thead>\n",
       "    <tr style=\"text-align: right;\">\n",
       "      <th></th>\n",
       "      <th>Name</th>\n",
       "      <th>Sex</th>\n",
       "      <th>Ticket</th>\n",
       "      <th>Cabin</th>\n",
       "      <th>Embarked</th>\n",
       "      <th>Survived</th>\n",
       "    </tr>\n",
       "  </thead>\n",
       "  <tbody>\n",
       "    <tr>\n",
       "      <th>1</th>\n",
       "      <td>Cumings, Mrs. John Bradley (Florence Briggs Th...</td>\n",
       "      <td>female</td>\n",
       "      <td>PC 17599</td>\n",
       "      <td>C85</td>\n",
       "      <td>C</td>\n",
       "      <td>1</td>\n",
       "    </tr>\n",
       "    <tr>\n",
       "      <th>3</th>\n",
       "      <td>Futrelle, Mrs. Jacques Heath (Lily May Peel)</td>\n",
       "      <td>female</td>\n",
       "      <td>113803</td>\n",
       "      <td>C123</td>\n",
       "      <td>S</td>\n",
       "      <td>1</td>\n",
       "    </tr>\n",
       "    <tr>\n",
       "      <th>8</th>\n",
       "      <td>Johnson, Mrs. Oscar W (Elisabeth Vilhelmina Berg)</td>\n",
       "      <td>female</td>\n",
       "      <td>347742</td>\n",
       "      <td>NaN</td>\n",
       "      <td>S</td>\n",
       "      <td>1</td>\n",
       "    </tr>\n",
       "    <tr>\n",
       "      <th>9</th>\n",
       "      <td>Nasser, Mrs. Nicholas (Adele Achem)</td>\n",
       "      <td>female</td>\n",
       "      <td>237736</td>\n",
       "      <td>NaN</td>\n",
       "      <td>C</td>\n",
       "      <td>1</td>\n",
       "    </tr>\n",
       "    <tr>\n",
       "      <th>15</th>\n",
       "      <td>Hewlett, Mrs. (Mary D Kingcome)</td>\n",
       "      <td>female</td>\n",
       "      <td>248706</td>\n",
       "      <td>NaN</td>\n",
       "      <td>S</td>\n",
       "      <td>1</td>\n",
       "    </tr>\n",
       "    <tr>\n",
       "      <th>18</th>\n",
       "      <td>Vander Planke, Mrs. Julius (Emelia Maria Vande...</td>\n",
       "      <td>female</td>\n",
       "      <td>345763</td>\n",
       "      <td>NaN</td>\n",
       "      <td>S</td>\n",
       "      <td>0</td>\n",
       "    </tr>\n",
       "    <tr>\n",
       "      <th>25</th>\n",
       "      <td>Asplund, Mrs. Carl Oscar (Selma Augusta Emilia...</td>\n",
       "      <td>female</td>\n",
       "      <td>347077</td>\n",
       "      <td>NaN</td>\n",
       "      <td>S</td>\n",
       "      <td>1</td>\n",
       "    </tr>\n",
       "    <tr>\n",
       "      <th>31</th>\n",
       "      <td>Spencer, Mrs. William Augustus (Marie Eugenie)</td>\n",
       "      <td>female</td>\n",
       "      <td>PC 17569</td>\n",
       "      <td>B78</td>\n",
       "      <td>C</td>\n",
       "      <td>1</td>\n",
       "    </tr>\n",
       "    <tr>\n",
       "      <th>40</th>\n",
       "      <td>Ahlin, Mrs. Johan (Johanna Persdotter Larsson)</td>\n",
       "      <td>female</td>\n",
       "      <td>7546</td>\n",
       "      <td>NaN</td>\n",
       "      <td>S</td>\n",
       "      <td>0</td>\n",
       "    </tr>\n",
       "    <tr>\n",
       "      <th>41</th>\n",
       "      <td>Turpin, Mrs. William John Robert (Dorothy Ann ...</td>\n",
       "      <td>female</td>\n",
       "      <td>11668</td>\n",
       "      <td>NaN</td>\n",
       "      <td>S</td>\n",
       "      <td>0</td>\n",
       "    </tr>\n",
       "  </tbody>\n",
       "</table>\n",
       "</div>"
      ],
      "text/plain": [
       "                                                 Name     Sex    Ticket Cabin  \\\n",
       "1   Cumings, Mrs. John Bradley (Florence Briggs Th...  female  PC 17599   C85   \n",
       "3        Futrelle, Mrs. Jacques Heath (Lily May Peel)  female    113803  C123   \n",
       "8   Johnson, Mrs. Oscar W (Elisabeth Vilhelmina Berg)  female    347742   NaN   \n",
       "9                 Nasser, Mrs. Nicholas (Adele Achem)  female    237736   NaN   \n",
       "15                   Hewlett, Mrs. (Mary D Kingcome)   female    248706   NaN   \n",
       "18  Vander Planke, Mrs. Julius (Emelia Maria Vande...  female    345763   NaN   \n",
       "25  Asplund, Mrs. Carl Oscar (Selma Augusta Emilia...  female    347077   NaN   \n",
       "31     Spencer, Mrs. William Augustus (Marie Eugenie)  female  PC 17569   B78   \n",
       "40     Ahlin, Mrs. Johan (Johanna Persdotter Larsson)  female      7546   NaN   \n",
       "41  Turpin, Mrs. William John Robert (Dorothy Ann ...  female     11668   NaN   \n",
       "\n",
       "   Embarked  Survived  \n",
       "1         C         1  \n",
       "3         S         1  \n",
       "8         S         1  \n",
       "9         C         1  \n",
       "15        S         1  \n",
       "18        S         0  \n",
       "25        S         1  \n",
       "31        C         1  \n",
       "40        S         0  \n",
       "41        S         0  "
      ]
     },
     "execution_count": 24,
     "metadata": {},
     "output_type": "execute_result"
    }
   ],
   "source": [
    "titanic_s[titanic_s[\"Name\"].str.contains(r\"\\(.*\\)\")].head(10)"
   ]
  },
  {
   "cell_type": "code",
   "execution_count": 25,
   "id": "abfb198f",
   "metadata": {
    "execution": {
     "iopub.execute_input": "2024-05-31T05:14:25.332525Z",
     "iopub.status.busy": "2024-05-31T05:14:25.332066Z",
     "iopub.status.idle": "2024-05-31T05:14:25.347224Z",
     "shell.execute_reply": "2024-05-31T05:14:25.346133Z"
    },
    "papermill": {
     "duration": 0.040022,
     "end_time": "2024-05-31T05:14:25.349559",
     "exception": false,
     "start_time": "2024-05-31T05:14:25.309537",
     "status": "completed"
    },
    "tags": []
   },
   "outputs": [
    {
     "data": {
      "text/html": [
       "<div>\n",
       "<style scoped>\n",
       "    .dataframe tbody tr th:only-of-type {\n",
       "        vertical-align: middle;\n",
       "    }\n",
       "\n",
       "    .dataframe tbody tr th {\n",
       "        vertical-align: top;\n",
       "    }\n",
       "\n",
       "    .dataframe thead th {\n",
       "        text-align: right;\n",
       "    }\n",
       "</style>\n",
       "<table border=\"1\" class=\"dataframe\">\n",
       "  <thead>\n",
       "    <tr style=\"text-align: right;\">\n",
       "      <th></th>\n",
       "      <th>Name</th>\n",
       "      <th>Sex</th>\n",
       "      <th>Ticket</th>\n",
       "      <th>Cabin</th>\n",
       "      <th>Embarked</th>\n",
       "      <th>Survived</th>\n",
       "    </tr>\n",
       "  </thead>\n",
       "  <tbody>\n",
       "    <tr>\n",
       "      <th>0</th>\n",
       "      <td>Braund, Mr. Owen Harris</td>\n",
       "      <td>male</td>\n",
       "      <td>A/5 21171</td>\n",
       "      <td>NaN</td>\n",
       "      <td>S</td>\n",
       "      <td>0</td>\n",
       "    </tr>\n",
       "    <tr>\n",
       "      <th>1</th>\n",
       "      <td>Cumings, Mrs. John Bradley (Florence Briggs Th...</td>\n",
       "      <td>female</td>\n",
       "      <td>PC 17599</td>\n",
       "      <td>C85</td>\n",
       "      <td>C</td>\n",
       "      <td>1</td>\n",
       "    </tr>\n",
       "    <tr>\n",
       "      <th>2</th>\n",
       "      <td>Heikkinen, Miss. Laina</td>\n",
       "      <td>female</td>\n",
       "      <td>STON/O2. 3101282</td>\n",
       "      <td>NaN</td>\n",
       "      <td>S</td>\n",
       "      <td>1</td>\n",
       "    </tr>\n",
       "    <tr>\n",
       "      <th>3</th>\n",
       "      <td>Futrelle, Mrs. Jacques Heath (Lily May Peel)</td>\n",
       "      <td>female</td>\n",
       "      <td>113803</td>\n",
       "      <td>C123</td>\n",
       "      <td>S</td>\n",
       "      <td>1</td>\n",
       "    </tr>\n",
       "    <tr>\n",
       "      <th>4</th>\n",
       "      <td>Allen, Mr. William Henry</td>\n",
       "      <td>male</td>\n",
       "      <td>373450</td>\n",
       "      <td>NaN</td>\n",
       "      <td>S</td>\n",
       "      <td>0</td>\n",
       "    </tr>\n",
       "    <tr>\n",
       "      <th>...</th>\n",
       "      <td>...</td>\n",
       "      <td>...</td>\n",
       "      <td>...</td>\n",
       "      <td>...</td>\n",
       "      <td>...</td>\n",
       "      <td>...</td>\n",
       "    </tr>\n",
       "    <tr>\n",
       "      <th>886</th>\n",
       "      <td>Montvila, Rev. Juozas</td>\n",
       "      <td>male</td>\n",
       "      <td>211536</td>\n",
       "      <td>NaN</td>\n",
       "      <td>S</td>\n",
       "      <td>0</td>\n",
       "    </tr>\n",
       "    <tr>\n",
       "      <th>887</th>\n",
       "      <td>Graham, Miss. Margaret Edith</td>\n",
       "      <td>female</td>\n",
       "      <td>112053</td>\n",
       "      <td>B42</td>\n",
       "      <td>S</td>\n",
       "      <td>1</td>\n",
       "    </tr>\n",
       "    <tr>\n",
       "      <th>888</th>\n",
       "      <td>Johnston, Miss. Catherine Helen \"Carrie\"</td>\n",
       "      <td>female</td>\n",
       "      <td>W./C. 6607</td>\n",
       "      <td>NaN</td>\n",
       "      <td>S</td>\n",
       "      <td>0</td>\n",
       "    </tr>\n",
       "    <tr>\n",
       "      <th>889</th>\n",
       "      <td>Behr, Mr. Karl Howell</td>\n",
       "      <td>male</td>\n",
       "      <td>111369</td>\n",
       "      <td>C148</td>\n",
       "      <td>C</td>\n",
       "      <td>1</td>\n",
       "    </tr>\n",
       "    <tr>\n",
       "      <th>890</th>\n",
       "      <td>Dooley, Mr. Patrick</td>\n",
       "      <td>male</td>\n",
       "      <td>370376</td>\n",
       "      <td>NaN</td>\n",
       "      <td>Q</td>\n",
       "      <td>0</td>\n",
       "    </tr>\n",
       "  </tbody>\n",
       "</table>\n",
       "<p>891 rows × 6 columns</p>\n",
       "</div>"
      ],
      "text/plain": [
       "                                                  Name     Sex  \\\n",
       "0                              Braund, Mr. Owen Harris    male   \n",
       "1    Cumings, Mrs. John Bradley (Florence Briggs Th...  female   \n",
       "2                               Heikkinen, Miss. Laina  female   \n",
       "3         Futrelle, Mrs. Jacques Heath (Lily May Peel)  female   \n",
       "4                             Allen, Mr. William Henry    male   \n",
       "..                                                 ...     ...   \n",
       "886                              Montvila, Rev. Juozas    male   \n",
       "887                       Graham, Miss. Margaret Edith  female   \n",
       "888           Johnston, Miss. Catherine Helen \"Carrie\"  female   \n",
       "889                              Behr, Mr. Karl Howell    male   \n",
       "890                                Dooley, Mr. Patrick    male   \n",
       "\n",
       "               Ticket Cabin Embarked  Survived  \n",
       "0           A/5 21171   NaN        S         0  \n",
       "1            PC 17599   C85        C         1  \n",
       "2    STON/O2. 3101282   NaN        S         1  \n",
       "3              113803  C123        S         1  \n",
       "4              373450   NaN        S         0  \n",
       "..                ...   ...      ...       ...  \n",
       "886            211536   NaN        S         0  \n",
       "887            112053   B42        S         1  \n",
       "888        W./C. 6607   NaN        S         0  \n",
       "889            111369  C148        C         1  \n",
       "890            370376   NaN        Q         0  \n",
       "\n",
       "[891 rows x 6 columns]"
      ]
     },
     "execution_count": 25,
     "metadata": {},
     "output_type": "execute_result"
    }
   ],
   "source": [
    "titanic_s"
   ]
  },
  {
   "cell_type": "markdown",
   "id": "1575996f",
   "metadata": {
    "papermill": {
     "duration": 0.021755,
     "end_time": "2024-05-31T05:14:25.393062",
     "exception": false,
     "start_time": "2024-05-31T05:14:25.371307",
     "status": "completed"
    },
    "tags": []
   },
   "source": [
    "# Feature Engineering"
   ]
  },
  {
   "cell_type": "markdown",
   "id": "ddeb7153",
   "metadata": {
    "papermill": {
     "duration": 0.021628,
     "end_time": "2024-05-31T05:14:25.436487",
     "exception": false,
     "start_time": "2024-05-31T05:14:25.414859",
     "status": "completed"
    },
    "tags": []
   },
   "source": [
    "## Categorical Values"
   ]
  },
  {
   "cell_type": "code",
   "execution_count": 26,
   "id": "ee3a84de",
   "metadata": {
    "execution": {
     "iopub.execute_input": "2024-05-31T05:14:25.481386Z",
     "iopub.status.busy": "2024-05-31T05:14:25.480981Z",
     "iopub.status.idle": "2024-05-31T05:14:25.490419Z",
     "shell.execute_reply": "2024-05-31T05:14:25.488936Z"
    },
    "papermill": {
     "duration": 0.034635,
     "end_time": "2024-05-31T05:14:25.492676",
     "exception": false,
     "start_time": "2024-05-31T05:14:25.458041",
     "status": "completed"
    },
    "tags": []
   },
   "outputs": [
    {
     "name": "stderr",
     "output_type": "stream",
     "text": [
      "/tmp/ipykernel_18/1932088774.py:1: SettingWithCopyWarning: \n",
      "A value is trying to be set on a copy of a slice from a DataFrame.\n",
      "Try using .loc[row_indexer,col_indexer] = value instead\n",
      "\n",
      "See the caveats in the documentation: https://pandas.pydata.org/pandas-docs/stable/user_guide/indexing.html#returning-a-view-versus-a-copy\n",
      "  titanic_s[\"Title\"] = titanic_s[\"Name\"].str.extract(\" ([A-Za-z]+)\\.\", expand=False)\n"
     ]
    }
   ],
   "source": [
    "titanic_s[\"Title\"] = titanic_s[\"Name\"].str.extract(\" ([A-Za-z]+)\\.\", expand=False)"
   ]
  },
  {
   "cell_type": "code",
   "execution_count": 27,
   "id": "bccc6128",
   "metadata": {
    "execution": {
     "iopub.execute_input": "2024-05-31T05:14:25.539170Z",
     "iopub.status.busy": "2024-05-31T05:14:25.538709Z",
     "iopub.status.idle": "2024-05-31T05:14:25.546862Z",
     "shell.execute_reply": "2024-05-31T05:14:25.545778Z"
    },
    "papermill": {
     "duration": 0.033643,
     "end_time": "2024-05-31T05:14:25.549221",
     "exception": false,
     "start_time": "2024-05-31T05:14:25.515578",
     "status": "completed"
    },
    "tags": []
   },
   "outputs": [
    {
     "data": {
      "text/plain": [
       "array(['Mr', 'Mrs', 'Miss', 'Master', 'Don', 'Rev', 'Dr', 'Mme', 'Ms',\n",
       "       'Major', 'Lady', 'Sir', 'Mlle', 'Col', 'Capt', 'Countess',\n",
       "       'Jonkheer'], dtype=object)"
      ]
     },
     "execution_count": 27,
     "metadata": {},
     "output_type": "execute_result"
    }
   ],
   "source": [
    "titanic_s.Title.unique()"
   ]
  },
  {
   "cell_type": "code",
   "execution_count": 28,
   "id": "302530a5",
   "metadata": {
    "execution": {
     "iopub.execute_input": "2024-05-31T05:14:25.595865Z",
     "iopub.status.busy": "2024-05-31T05:14:25.595081Z",
     "iopub.status.idle": "2024-05-31T05:14:25.988117Z",
     "shell.execute_reply": "2024-05-31T05:14:25.986998Z"
    },
    "papermill": {
     "duration": 0.419919,
     "end_time": "2024-05-31T05:14:25.990849",
     "exception": false,
     "start_time": "2024-05-31T05:14:25.570930",
     "status": "completed"
    },
    "tags": []
   },
   "outputs": [
    {
     "data": {
      "image/png": "[encoded data removed]",
      "text/plain": [
       "<Figure size 640x480 with 1 Axes>"
      ]
     },
     "metadata": {},
     "output_type": "display_data"
    }
   ],
   "source": [
    "survived_t = titanic_s[titanic_s[\"Survived\"]==1][\"Title\"].value_counts()\n",
    "died_t = titanic_s[titanic_s[\"Survived\"]==0][\"Title\"].value_counts()\n",
    "    \n",
    "    \n",
    "    \n",
    "    \n",
    "plt.bar(survived_t.index, survived_t, color=\"blue\", alpha=.5, label=\"Survived\")\n",
    "plt.bar(died_t.index, died_t, color=\"red\", alpha=.5, label=\"Died\")\n",
    "plt.title(\"Title\")\n",
    "plt.ylabel(\"Probability\")\n",
    "plt.xticks(rotation=\"vertical\")\n",
    "plt.legend()\n",
    "plt.show()"
   ]
  },
  {
   "cell_type": "markdown",
   "id": "27def469",
   "metadata": {
    "papermill": {
     "duration": 0.021955,
     "end_time": "2024-05-31T05:14:26.035057",
     "exception": false,
     "start_time": "2024-05-31T05:14:26.013102",
     "status": "completed"
    },
    "tags": []
   },
   "source": [
    "People with Mr as their title have the highest death rate"
   ]
  },
  {
   "cell_type": "markdown",
   "id": "d40f8f36",
   "metadata": {
    "papermill": {
     "duration": 0.027618,
     "end_time": "2024-05-31T05:14:26.086515",
     "exception": false,
     "start_time": "2024-05-31T05:14:26.058897",
     "status": "completed"
    },
    "tags": []
   },
   "source": [
    "## Numerical Values"
   ]
  },
  {
   "cell_type": "code",
   "execution_count": 29,
   "id": "9471340c",
   "metadata": {
    "execution": {
     "iopub.execute_input": "2024-05-31T05:14:26.140553Z",
     "iopub.status.busy": "2024-05-31T05:14:26.139809Z",
     "iopub.status.idle": "2024-05-31T05:14:26.147441Z",
     "shell.execute_reply": "2024-05-31T05:14:26.146369Z"
    },
    "papermill": {
     "duration": 0.039078,
     "end_time": "2024-05-31T05:14:26.154835",
     "exception": false,
     "start_time": "2024-05-31T05:14:26.115757",
     "status": "completed"
    },
    "tags": []
   },
   "outputs": [],
   "source": [
    "titanic_num[\"FamSize\"] = titanic_num[\"Parch\"] + titanic_num[\"SibSp\"] + 1"
   ]
  },
  {
   "cell_type": "code",
   "execution_count": 30,
   "id": "6182e872",
   "metadata": {
    "execution": {
     "iopub.execute_input": "2024-05-31T05:14:26.208326Z",
     "iopub.status.busy": "2024-05-31T05:14:26.207445Z",
     "iopub.status.idle": "2024-05-31T05:14:26.214109Z",
     "shell.execute_reply": "2024-05-31T05:14:26.213063Z"
    },
    "papermill": {
     "duration": 0.035783,
     "end_time": "2024-05-31T05:14:26.217040",
     "exception": false,
     "start_time": "2024-05-31T05:14:26.181257",
     "status": "completed"
    },
    "tags": []
   },
   "outputs": [],
   "source": [
    "titanic_num[\"Fare_Pclass\"] = titanic_num[\"Fare\"] * titanic_num[\"Pclass\"]"
   ]
  },
  {
   "cell_type": "code",
   "execution_count": 31,
   "id": "97b51141",
   "metadata": {
    "execution": {
     "iopub.execute_input": "2024-05-31T05:14:26.268553Z",
     "iopub.status.busy": "2024-05-31T05:14:26.267605Z",
     "iopub.status.idle": "2024-05-31T05:14:26.865427Z",
     "shell.execute_reply": "2024-05-31T05:14:26.864060Z"
    },
    "papermill": {
     "duration": 0.625324,
     "end_time": "2024-05-31T05:14:26.868442",
     "exception": false,
     "start_time": "2024-05-31T05:14:26.243118",
     "status": "completed"
    },
    "tags": []
   },
   "outputs": [
    {
     "data": {
      "image/png": "[encoded data removed]",
      "text/plain": [
       "<Figure size 640x480 with 2 Axes>"
      ]
     },
     "metadata": {},
     "output_type": "display_data"
    }
   ],
   "source": [
    "sns.heatmap(titanic_num.corr(), annot=True)\n",
    "plt.show()"
   ]
  },
  {
   "cell_type": "code",
   "execution_count": null,
   "id": "6372dc74",
   "metadata": {
    "papermill": {
     "duration": 0.023383,
     "end_time": "2024-05-31T05:14:26.920694",
     "exception": false,
     "start_time": "2024-05-31T05:14:26.897311",
     "status": "completed"
    },
    "tags": []
   },
   "outputs": [],
   "source": []
  }
 ],
 "metadata": {
  "kaggle": {
   "accelerator": "none",
   "dataSources": [
    {
     "datasetId": 4450821,
     "sourceId": 7637399,
     "sourceType": "datasetVersion"
    }
   ],
   "dockerImageVersionId": 30698,
   "isGpuEnabled": false,
   "isInternetEnabled": true,
   "language": "python",
   "sourceType": "notebook"
  },
  "kernelspec": {
   "display_name": "Python 3",
   "language": "python",
   "name": "python3"
  },
  "language_info": {
   "codemirror_mode": {
    "name": "ipython",
    "version": 3
   },
   "file_extension": ".py",
   "mimetype": "text/x-python",
   "name": "python",
   "nbconvert_exporter": "python",
   "pygments_lexer": "ipython3",
   "version": "3.10.13"
  },
  "papermill": {
   "default_parameters": {},
   "duration": 13.243359,
   "end_time": "2024-05-31T05:14:27.566874",
   "environment_variables": {},
   "exception": null,
   "input_path": "__notebook__.ipynb",
   "output_path": "__notebook__.ipynb",
   "parameters": {},
   "start_time": "2024-05-31T05:14:14.323515",
   "version": "2.5.0"
  }
 },
 "nbformat": 4,
 "nbformat_minor": 5
}
